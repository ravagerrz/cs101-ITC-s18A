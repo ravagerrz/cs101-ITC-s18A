{
 "cells": [
  {
   "cell_type": "code",
   "execution_count": 1,
   "metadata": {},
   "outputs": [
    {
     "name": "stdout",
     "output_type": "stream",
     "text": [
      "Enter a string:my name is usama\n",
      "M\n",
      "Y\n",
      "N\n",
      "A\n",
      "M\n",
      "E\n",
      "I\n",
      "S\n",
      "U\n",
      "S\n",
      "A\n",
      "M\n",
      "A\n"
     ]
    }
   ],
   "source": [
    "n=raw_input('Enter a string:')\n",
    "for i in n:\n",
    "    if i == 'a':\n",
    "        print 'A'\n",
    "    if i == 'b':\n",
    "        print 'B'\n",
    "    if i == 'c':\n",
    "        print 'C'    \n",
    "    if i == 'd':\n",
    "        print 'D'    \n",
    "    if i == 'e':\n",
    "        print 'E'\n",
    "    if i == 'f':\n",
    "        print 'F'\n",
    "    if i == 'g':\n",
    "        print 'G'      \n",
    "    if i == 'h':\n",
    "        print 'H'\n",
    "    if i == 'i':\n",
    "        print 'I'\n",
    "    if i == 'j':\n",
    "        print 'J'\n",
    "    if i == 'k':\n",
    "        print 'K'\n",
    "    if i == 'l':\n",
    "        print 'L'\n",
    "    if i == 'm':\n",
    "        print 'M'\n",
    "    if i == 'n':\n",
    "        print 'N'\n",
    "    if i == 'o':\n",
    "        print 'O'\n",
    "    if i == 'p':\n",
    "        print 'P'\n",
    "    if i == 'q':\n",
    "        print 'Q'\n",
    "    if i == 'r':\n",
    "        print 'R'\n",
    "    if i == 's':\n",
    "        print 'S'\n",
    "    if i == 't':\n",
    "        print 'T'\n",
    "    if i == 'u':\n",
    "        print 'U'\n",
    "    if i == 'v':\n",
    "        print 'V'\n",
    "    if i == 'w':\n",
    "        print 'W'\n",
    "    if i == 'x':\n",
    "        print 'X'\n",
    "    if i == 'y':\n",
    "        print 'Y'\n",
    "    if i == 'z':\n",
    "        print 'Z'    "
   ]
  },
  {
   "cell_type": "code",
   "execution_count": null,
   "metadata": {
    "collapsed": true
   },
   "outputs": [],
   "source": []
  }
 ],
 "metadata": {
  "kernelspec": {
   "display_name": "Python 2",
   "language": "python",
   "name": "python2"
  },
  "language_info": {
   "codemirror_mode": {
    "name": "ipython",
    "version": 2
   },
   "file_extension": ".py",
   "mimetype": "text/x-python",
   "name": "python",
   "nbconvert_exporter": "python",
   "pygments_lexer": "ipython2",
   "version": "2.7.13"
  }
 },
 "nbformat": 4,
 "nbformat_minor": 2
}
