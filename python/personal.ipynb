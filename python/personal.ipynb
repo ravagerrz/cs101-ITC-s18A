{
 "cells": [
  {
   "cell_type": "code",
   "execution_count": 8,
   "metadata": {},
   "outputs": [
    {
     "data": {
      "text/plain": [
       "107"
      ]
     },
     "execution_count": 8,
     "metadata": {},
     "output_type": "execute_result"
    }
   ],
   "source": [
    "ord('x')\n",
    "ord('k')"
   ]
  },
  {
   "cell_type": "code",
   "execution_count": 9,
   "metadata": {},
   "outputs": [
    {
     "data": {
      "text/plain": [
       "'k'"
      ]
     },
     "execution_count": 9,
     "metadata": {},
     "output_type": "execute_result"
    }
   ],
   "source": [
    "chr(107)"
   ]
  },
  {
   "cell_type": "code",
   "execution_count": 51,
   "metadata": {},
   "outputs": [],
   "source": [
    "def solve(a0,a1,a2,b0,b1,b2):\n",
    "    if a0 == b0 and a1 == b1 and a2 and b2:\n",
    "        return None\n",
    "    Alice=0\n",
    "    Bob =0\n",
    "    if a0 == b0 or a1 == b1 or a2 == b2:\n",
    "        Alice += 0 \n",
    "        Bob += 0\n",
    "    if a0>b0:\n",
    "        Alice += 1\n",
    "    elif a0 == b0:\n",
    "        Bob += 0\n",
    "        Alice += 0\n",
    "     \n",
    "    else:\n",
    "        Bob += 1\n",
    "    if a1>b1:\n",
    "        Alice +=1\n",
    "    elif a1 == b1:\n",
    "        Bob += 0\n",
    "        Alice += 0\n",
    "    else:\n",
    "        Bob += 1\n",
    "    if a2 > b2:\n",
    "        Alice += 1\n",
    "    elif a2 == b2:\n",
    "        Bob += 0\n",
    "        Alice += 0\n",
    " \n",
    "    else:\n",
    "        Bob += 1\n",
    "    return Alice,Bob \n",
    "        "
   ]
  },
  {
   "cell_type": "code",
   "execution_count": 54,
   "metadata": {},
   "outputs": [
    {
     "data": {
      "text/plain": [
       "(1, 1)"
      ]
     },
     "execution_count": 54,
     "metadata": {},
     "output_type": "execute_result"
    }
   ],
   "source": [
    "solve(5,6,7,3,6,10)"
   ]
  },
  {
   "cell_type": "code",
   "execution_count": 53,
   "metadata": {},
   "outputs": [
    {
     "data": {
      "text/plain": [
       "(1, 1)"
      ]
     },
     "execution_count": 53,
     "metadata": {},
     "output_type": "execute_result"
    }
   ],
   "source": [
    "var"
   ]
  },
  {
   "cell_type": "code",
   "execution_count": null,
   "metadata": {
    "collapsed": true
   },
   "outputs": [],
   "source": []
  }
 ],
 "metadata": {
  "kernelspec": {
   "display_name": "Python 2",
   "language": "python",
   "name": "python2"
  },
  "language_info": {
   "codemirror_mode": {
    "name": "ipython",
    "version": 2
   },
   "file_extension": ".py",
   "mimetype": "text/x-python",
   "name": "python",
   "nbconvert_exporter": "python",
   "pygments_lexer": "ipython2",
   "version": "2.7.13"
  }
 },
 "nbformat": 4,
 "nbformat_minor": 2
}
