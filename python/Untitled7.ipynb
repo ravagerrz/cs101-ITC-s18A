{
 "cells": [
  {
   "cell_type": "code",
   "execution_count": 8,
   "metadata": {
    "collapsed": true
   },
   "outputs": [],
   "source": [
    "\n",
    "    \n",
    "def fib_num(n):\n",
    "    if n <= 1: return n\n",
    "    a,b = 0,1\n",
    "    for i in range(1 , n+1):\n",
    "        n = a + b\n",
    "        a = b\n",
    "        b = n\n",
    "        print a,"
   ]
  },
  {
   "cell_type": "code",
   "execution_count": 7,
   "metadata": {},
   "outputs": [
    {
     "name": "stdout",
     "output_type": "stream",
     "text": [
      "1 1 2 3 5 8 13 21 34 55 89 144 233 377 610 987 1597 2584 4181 6765 10946 17711 28657 46368 75025 121393 196418 317811 514229 832040 1346269 2178309 3524578 5702887 9227465 14930352 24157817 39088169 63245986 102334155 165580141 267914296 433494437 701408733 1134903170 1836311903 2971215073 4807526976 7778742049 12586269025\n"
     ]
    }
   ],
   "source": [
    "fib_num()"
   ]
  },
  {
   "cell_type": "code",
   "execution_count": 22,
   "metadata": {},
   "outputs": [
    {
     "name": "stdout",
     "output_type": "stream",
     "text": [
      "1\n",
      "1\n",
      "2\n",
      "3\n",
      "5\n",
      "8\n",
      "13\n",
      "21\n",
      "34\n"
     ]
    }
   ],
   "source": [
    "def fib(n):\n",
    "    x,y=0,1\n",
    "    while y<n:\n",
    "        print(y)\n",
    "        x,y = y,x+y\n",
    "fib(50)        "
   ]
  },
  {
   "cell_type": "code",
   "execution_count": 40,
   "metadata": {},
   "outputs": [
    {
     "name": "stdout",
     "output_type": "stream",
     "text": [
      "Enter Month:may\n",
      "No of days: 31 days\n"
     ]
    }
   ],
   "source": [
    "Month = raw_input('Enter Month:')\n",
    "if Month == 'January' or 'March' or 'May' or 'july' or 'august' or 'october' or 'december':\n",
    "    print \"No of days:\",'31','days'\n",
    "elif Month == 'Feb':\n",
    "    print \"No of days:\",'28/29','days'\n",
    "else:\n",
    "    Month == 'april' or 'june' or 'september' or 'november' \n",
    "    print \"No of days:\",'30','days'\n"
   ]
  },
  {
   "cell_type": "code",
   "execution_count": 45,
   "metadata": {},
   "outputs": [
    {
     "name": "stdout",
     "output_type": "stream",
     "text": [
      "Enter Character:k\n",
      "k is a consonant\n"
     ]
    }
   ],
   "source": [
    "Character=raw_input('Enter Character:')\n",
    "lst1 = ['a','i','o','u']\n",
    "if Character in lst1:\n",
    "    print Character + \" is a vowel\" \n",
    "else:\n",
    "    print Character  + \" is a consonant\""
   ]
  },
  {
   "cell_type": "code",
   "execution_count": 17,
   "metadata": {},
   "outputs": [
    {
     "name": "stdout",
     "output_type": "stream",
     "text": [
      "Enter a string:Hello world\n",
      "Upper case 1\n",
      "Lower case 9\n"
     ]
    }
   ],
   "source": [
    "calculation=raw_input(\"Enter a string:\")\n",
    "var = 0\n",
    "var1 =0\n",
    "for k in calculation:\n",
    "    if k.isupper():\n",
    "        var += 1\n",
    "    else:\n",
    "        if k == \" \":\n",
    "            continue\n",
    "        k.islower()\n",
    "        var1 += 1\n",
    "print \"Upper case\" , var\n",
    "print \"Lower case\" , var1\n",
    "   "
   ]
  },
  {
   "cell_type": "code",
   "execution_count": 35,
   "metadata": {},
   "outputs": [
    {
     "name": "stdout",
     "output_type": "stream",
     "text": [
      "Enter month:january\n",
      "Enter day:32\n",
      "your Astrological sign is: Aquarius\n"
     ]
    }
   ],
   "source": [
    "Month=raw_input(\"Enter month:\")\n",
    "Day=input(\"Enter day:\")\n",
    "if (Month == 'january') and (Day>=20) or (Month == 'febuary') and (Day<=19):\n",
    "    print \"your Astrological sign is: Aquarius\"\n",
    "elif (Month == 'febuary') & (Day>=20) | (Month == 'march') & (Day<=20):\n",
    "    print \"your Astrological sign is: Pisces\"\n",
    "elif (Month == 'march') & (Day>=21) | (Month == 'april') & (Day<=20):\n",
    "    print \"your Astrological sign is: Aries\"\n",
    "elif (Month == 'april') & (Day>=21) | (Month == 'may') & (Day<=20):\n",
    "    print \"your Astrological sign is: Taurus\"\n",
    "elif (Month == 'may') & (Day>=21) | (Month == 'june') & (Day<=20):\n",
    "    print \"your Astrological sign is: Gemini\"\n",
    "elif (Month == 'june') & (Day>=21) | (Month == 'july') & (Day<=22):\n",
    "    print \"your Astrological sign is: Cancer\"\n",
    "elif (Month == 'july') & (Day>=23) | (Month == 'august') & (Day<=22):\n",
    "    print \"your Astrological sign is: Leo\"\n",
    "elif (Month == 'august') & (Day>=23) | (Month == 'september') & (Day<=22):\n",
    "    print \"your Astrological sign is: Virgo\"\n",
    "elif (Month == 'september') & (Day>=23) | (Month == 'october') & (Day<=22):\n",
    "    print \"your Astrological sign is: Libra\"\n",
    "elif (Month == 'october') & (Day>= 23) | (Month == 'november') & (Day<=22):\n",
    "    print \"your Astrological sign is: Scorpio\"\n",
    "elif (Month == 'november') & (Day>=23) | (Month == 'decmber') & (Day<=21):\n",
    "    print \"your Astrological sign is: Sagittarius\"\n",
    "else:\n",
    "    (Month == 'december') & (Day>=22) | (Month == 'january') & (Day<=19)\n",
    "    print \"your Astrological sign is: Capricon\""
   ]
  },
  {
   "cell_type": "code",
   "execution_count": 24,
   "metadata": {},
   "outputs": [
    {
     "name": "stdout",
     "output_type": "stream",
     "text": [
      "Enter word:python\n",
      "The string is not an integer\n"
     ]
    }
   ],
   "source": [
    "s = raw_input(\"Enter word:\")\n",
    "if type(s) == int:\n",
    "    print \"The string is  an integer\"\n",
    "else:\n",
    "    type(s) == str\n",
    "    print \"The string is not an integer\""
   ]
  },
  {
   "cell_type": "code",
   "execution_count": 21,
   "metadata": {},
   "outputs": [
    {
     "ename": "NameError",
     "evalue": "name 'python' is not defined",
     "output_type": "error",
     "traceback": [
      "\u001b[0;31m---------------------------------------------------------------------------\u001b[0m",
      "\u001b[0;31mNameError\u001b[0m                                 Traceback (most recent call last)",
      "\u001b[0;32m<ipython-input-21-d40ad5abe753>\u001b[0m in \u001b[0;36m<module>\u001b[0;34m()\u001b[0m\n\u001b[0;32m----> 1\u001b[0;31m type1(python\n\u001b[0m\u001b[1;32m      2\u001b[0m      )\n",
      "\u001b[0;31mNameError\u001b[0m: name 'python' is not defined"
     ]
    }
   ],
   "source": []
  },
  {
   "cell_type": "code",
   "execution_count": null,
   "metadata": {
    "collapsed": true
   },
   "outputs": [],
   "source": []
  }
 ],
 "metadata": {
  "kernelspec": {
   "display_name": "Python 2",
   "language": "python",
   "name": "python2"
  },
  "language_info": {
   "codemirror_mode": {
    "name": "ipython",
    "version": 2
   },
   "file_extension": ".py",
   "mimetype": "text/x-python",
   "name": "python",
   "nbconvert_exporter": "python",
   "pygments_lexer": "ipython2",
   "version": "2.7.13"
  }
 },
 "nbformat": 4,
 "nbformat_minor": 2
}
