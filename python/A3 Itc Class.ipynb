{
 "cells": [
  {
   "cell_type": "code",
   "execution_count": 1,
   "metadata": {
    "collapsed": true
   },
   "outputs": [],
   "source": [
    "def list_intro ():\n",
    "    n = input(\"enter number:\")\n",
    "    for i in n:\n",
    "        if i == n:\n",
    "            print i\n",
    "    for k in n:\n",
    "        if k == n:\n",
    "            continue\n",
    "            print k"
   ]
  },
  {
   "cell_type": "code",
   "execution_count": 5,
   "metadata": {},
   "outputs": [
    {
     "name": "stdout",
     "output_type": "stream",
     "text": [
      "enter number:[12, 24, 35, 24, 88, 120, 155, 88, 120, 155]\n"
     ]
    }
   ],
   "source": [
    "list_intro()"
   ]
  },
  {
   "cell_type": "code",
   "execution_count": null,
   "metadata": {
    "collapsed": true
   },
   "outputs": [],
   "source": [
    "l=input(\"Enr\")\n",
    "for m in l:\n",
    "     print m,\n",
    "        "
   ]
  },
  {
   "cell_type": "code",
   "execution_count": 3,
   "metadata": {
    "collapsed": true
   },
   "outputs": [],
   "source": [
    "def list_intro (n):\n",
    "    for i in n:\n",
    "        if i == n:\n",
    "            print i\n",
    "    for k in n:\n",
    "        if k == n:\n",
    "            continue\n",
    "            print k"
   ]
  },
  {
   "cell_type": "code",
   "execution_count": 5,
   "metadata": {
    "collapsed": true
   },
   "outputs": [],
   "source": [
    "list_intro([12, 24, 35, 24, 88, 120, 155, 88, 120, 155])"
   ]
  },
  {
   "cell_type": "code",
   "execution_count": 34,
   "metadata": {},
   "outputs": [],
   "source": [
    "def list_intro (n):\n",
    "    lst1 = []\n",
    "    lst2=[]\n",
    "    for i in n:\n",
    "        if i not in lst1:\n",
    "            lst1.append(i)\n",
    "        else:\n",
    "            lst2.append(i)\n",
    "    return lst1 ,lst2\n",
    "        "
   ]
  },
  {
   "cell_type": "code",
   "execution_count": 35,
   "metadata": {},
   "outputs": [
    {
     "data": {
      "text/plain": [
       "(['M', 'o', 'r', 'n', 'i', 'g'], ['n'])"
      ]
     },
     "execution_count": 35,
     "metadata": {},
     "output_type": "execute_result"
    }
   ],
   "source": [
    "list_intro('Bubble Gum)"
   ]
  },
  {
   "cell_type": "code",
   "execution_count": null,
   "metadata": {
    "collapsed": true
   },
   "outputs": [],
   "source": []
  }
 ],
 "metadata": {
  "kernelspec": {
   "display_name": "Python 2",
   "language": "python",
   "name": "python2"
  },
  "language_info": {
   "codemirror_mode": {
    "name": "ipython",
    "version": 2
   },
   "file_extension": ".py",
   "mimetype": "text/x-python",
   "name": "python",
   "nbconvert_exporter": "python",
   "pygments_lexer": "ipython2",
   "version": "2.7.13"
  }
 },
 "nbformat": 4,
 "nbformat_minor": 2
}
