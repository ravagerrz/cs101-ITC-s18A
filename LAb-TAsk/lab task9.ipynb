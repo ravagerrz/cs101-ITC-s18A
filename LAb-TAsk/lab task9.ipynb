{
 "cells": [
  {
   "cell_type": "code",
   "execution_count": 9,
   "metadata": {},
   "outputs": [
    {
     "name": "stdout",
     "output_type": "stream",
     "text": [
      "2 x 1 = 2\n",
      "2 x 2 = 4\n",
      "2 x 3 = 6\n",
      "2 x 4 = 8\n",
      "2 x 5 = 10\n",
      "2 x 6 = 12\n",
      "2 x 7 = 14\n",
      "2 x 8 = 16\n",
      "2 x 9 = 18\n",
      "2 x 10 = 20\n"
     ]
    }
   ],
   "source": [
    "def table(x):\n",
    "    for i in range(1,11):\n",
    "        a = i * x\n",
    "        print x, 'x', i, '=', a\n",
    "table(2)"
   ]
  },
  {
   "cell_type": "code",
   "execution_count": 35,
   "metadata": {},
   "outputs": [
    {
     "data": {
      "text/plain": [
       "3.8587562763149474"
      ]
     },
     "execution_count": 35,
     "metadata": {},
     "output_type": "execute_result"
    }
   ],
   "source": [
    "def hypotenuse(x,y):\n",
    "    from math import sqrt\n",
    "    var =x*x\n",
    "    var1 = y*y\n",
    "    var3 = var1 +var\n",
    "    return sqrt(var3)\n",
    "hypotenuse(2.0,3.3)"
   ]
  },
  {
   "cell_type": "code",
   "execution_count": 36,
   "metadata": {},
   "outputs": [
    {
     "data": {
      "text/plain": [
       "3.605551275463989"
      ]
     },
     "execution_count": 36,
     "metadata": {},
     "output_type": "execute_result"
    }
   ],
   "source": [
    "hypotenuse(2,3)"
   ]
  },
  {
   "cell_type": "code",
   "execution_count": 37,
   "metadata": {},
   "outputs": [
    {
     "data": {
      "text/plain": [
       "3.8587562763149474"
      ]
     },
     "execution_count": 37,
     "metadata": {},
     "output_type": "execute_result"
    }
   ],
   "source": [
    "hypotenuse(2,3.3)"
   ]
  },
  {
   "cell_type": "code",
   "execution_count": 32,
   "metadata": {},
   "outputs": [],
   "source": [
    "def number():\n",
    "    n = input(\"Enter a number:\")\n",
    "    while n == 99:\n",
    "        return \n",
    "    if n%2 == 0:\n",
    "        print n\n",
    "    else:\n",
    "        number()\n",
    "        "
   ]
  },
  {
   "cell_type": "code",
   "execution_count": 33,
   "metadata": {},
   "outputs": [
    {
     "name": "stdout",
     "output_type": "stream",
     "text": [
      "Enter a number:13\n",
      "Enter a number:99\n"
     ]
    }
   ],
   "source": [
    "number()"
   ]
  },
  {
   "cell_type": "code",
   "execution_count": 15,
   "metadata": {},
   "outputs": [
    {
     "name": "stdout",
     "output_type": "stream",
     "text": [
      "Enter list:[-5, -23, 5, 0, 23, -6, 23, 67]\n",
      "67\n"
     ]
    }
   ],
   "source": [
    "def max_list():\n",
    "    n = input(\"Enter list:\")\n",
    "    lst = []\n",
    "\n",
    "    while n:\n",
    "        var = n[0]   \n",
    "        for i in n: \n",
    "            if i < var:\n",
    "                var = i\n",
    "        lst.append(var)\n",
    "        n.remove(var)    \n",
    "\n",
    "    print lst[-1]\n",
    "max_list()\n"
   ]
  },
  {
   "cell_type": "code",
   "execution_count": 29,
   "metadata": {},
   "outputs": [
    {
     "name": "stdout",
     "output_type": "stream",
     "text": [
      "[-5, -23, 5, 0, 23, -6, 23, 67]\n"
     ]
    },
    {
     "data": {
      "text/plain": [
       "[-5, -23, 5, 0, 23, -6, 23, 67, 84]"
      ]
     },
     "execution_count": 29,
     "metadata": {},
     "output_type": "execute_result"
    }
   ],
   "source": [
    "def my_code(x):\n",
    "    counter = 0\n",
    "    lst=[]\n",
    "    for i in x:\n",
    "        lst.append(i)\n",
    "        counter = counter + i\n",
    "    lst.append(counter)\n",
    "    print x\n",
    "    return lst\n",
    "my_code([-5, -23, 5, 0, 23, -6, 23, 67])"
   ]
  },
  {
   "cell_type": "code",
   "execution_count": 100,
   "metadata": {},
   "outputs": [
    {
     "name": "stdout",
     "output_type": "stream",
     "text": [
      "+\n",
      "2\n",
      "5\n",
      "9\n",
      "14\n"
     ]
    },
    {
     "data": {
      "text/plain": [
       "14"
      ]
     },
     "execution_count": 100,
     "metadata": {},
     "output_type": "execute_result"
    }
   ],
   "source": [
    "def my_code1(*arg):\n",
    "    var = 0\n",
    "    var1 = 1\n",
    "    opr = arg[-1]\n",
    "    print opr\n",
    "    #var = len(arg) -1\n",
    "    if len(arg) == 1:\n",
    "        return arg\n",
    "    for i in arg:\n",
    "        #print i,type(i)\n",
    "        if type(i) != str:\n",
    "            if opr == '+':\n",
    "                var = var+i\n",
    "                print var\n",
    "            elif opr == '*':\n",
    "                var = var1*i\n",
    "            elif opr == '-':\n",
    "                var = var-i\n",
    "            elif opr == '/':\n",
    "                var = var1/i\n",
    "    return var\n",
    "                \n",
    "          \n",
    "my_code1(2,3,4,5,'+')"
   ]
  },
  {
   "cell_type": "code",
   "execution_count": null,
   "metadata": {
    "collapsed": true
   },
   "outputs": [],
   "source": []
  },
  {
   "cell_type": "code",
   "execution_count": null,
   "metadata": {
    "collapsed": true
   },
   "outputs": [],
   "source": []
  }
 ],
 "metadata": {
  "kernelspec": {
   "display_name": "Python 2",
   "language": "python",
   "name": "python2"
  },
  "language_info": {
   "codemirror_mode": {
    "name": "ipython",
    "version": 2
   },
   "file_extension": ".py",
   "mimetype": "text/x-python",
   "name": "python",
   "nbconvert_exporter": "python",
   "pygments_lexer": "ipython2",
   "version": "2.7.13"
  }
 },
 "nbformat": 4,
 "nbformat_minor": 2
}
