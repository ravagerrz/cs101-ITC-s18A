{
 "cells": [
  {
   "cell_type": "code",
   "execution_count": 11,
   "metadata": {},
   "outputs": [
    {
     "name": "stdout",
     "output_type": "stream",
     "text": [
      "91.3\n"
     ]
    }
   ],
   "source": [
    "counter = 0\n",
    "a=[\n",
    "( '16P-6006', 'Awais Ahmed Qarni', 17) ,\n",
    "( '16P-6130', 'Ali Hassan', 11) ,\n",
    "( '16P-6140', 'Umm E Aimen', 19.3) ,\n",
    "( '17P-6002', 'Dawar Khan', 22) ,\n",
    "( '17P-6005', 'Fatima Noor', 22) ,\n",
    "]\n",
    "for i in a:\n",
    "    for k in (i):\n",
    "        if type(k) != str:\n",
    "            counter += k\n",
    "print counter\n"
   ]
  },
  {
   "cell_type": "code",
   "execution_count": 2,
   "metadata": {},
   "outputs": [
    {
     "name": "stdout",
     "output_type": "stream",
     "text": [
      "7\n",
      "4\n",
      "6\n",
      "3\n",
      "8\n",
      "5\n",
      "8.3\n",
      "6\n",
      "6\n",
      "10\n",
      "6\n",
      "6\n",
      "10\n",
      "6\n"
     ]
    }
   ],
   "source": [
    "def cumulative_marks(results):\n",
    "    for i in results:\n",
    "        #print i\n",
    "        a = i[2:]\n",
    "        for k in a:\n",
    "            if k == None:\n",
    "                continue\n",
    "            print k\n",
    "cumulative_marks([\n",
    "('p166006', 'Awais Ahmed Qarni', 7 ,4, 6),(\n",
    "'p166130', 'Ali Hassan', 3, 8, None),(\n",
    "'p166140', 'Umm Eaimen', 5 ,8.3, 6),(\n",
    "'p176002', 'Dawar Khan', 6 ,10, 6),(\n",
    "'p176005', 'Fatima Noor', 6 ,10, 6),\n",
    "])"
   ]
  },
  {
   "cell_type": "code",
   "execution_count": 43,
   "metadata": {},
   "outputs": [
    {
     "data": {
      "text/plain": [
       "[('16P-6006', 'Awais Ahmed Qarni', 17),\n",
       " ('16P-6130', 'Ali Hassan', 11),\n",
       " ('16P-6140', 'Umm Eaimen', 19.3),\n",
       " ('17P-6002', 'Dawar Khan', 22),\n",
       " ('17P-6005', 'Fatima Noor', 22)]"
      ]
     },
     "execution_count": 43,
     "metadata": {},
     "output_type": "execute_result"
    }
   ],
   "source": [
    "def cumulative_marks(marks):\n",
    "    if marks == None:\n",
    "        return None\n",
    "    marks = (list(tuples) for tuples in marks)   \n",
    "    lst1 = []\n",
    "\n",
    "    for k in marks:\n",
    "        var = k[0]\n",
    "        b = var.replace(var[0],'')\n",
    "        a = b.replace(b[2:],'P-'+ b[2:])\n",
    "        var2 = (k[2:])\n",
    "        \n",
    "        lst3 = []\n",
    "\n",
    "        for j in var2:\n",
    "            if j == None:\n",
    "                continue\n",
    "            elif j == 'A':\n",
    "                continue\n",
    "            else:\n",
    "                lst3.append(j)\n",
    "    \n",
    "        sum1 = sum(lst3)\n",
    "        lst2 = k[0:2]\n",
    "        lst2[0]=a\n",
    "        lst2.append(sum1)\n",
    "        lst1.append(tuple((lst2)))\n",
    "        \n",
    "        \n",
    "    return lst1\n",
    "cumulative_marks([\n",
    "('p166006', 'Awais Ahmed Qarni', 7 ,4, 6),(\n",
    "'p166130', 'Ali Hassan', 3, 8, None),(\n",
    "'p166140', 'Umm Eaimen', 5 ,8.3, 6),(\n",
    "'p176002', 'Dawar Khan', 6 ,10, 6),(\n",
    "'p176005', 'Fatima Noor', 6 ,10, 6),\n",
    "])\n"
   ]
  },
  {
   "cell_type": "code",
   "execution_count": 32,
   "metadata": {},
   "outputs": [
    {
     "name": "stdout",
     "output_type": "stream",
     "text": [
      "17P-6069\n"
     ]
    }
   ],
   "source": [
    "var ='p176069'\n",
    "b = var.replace(var[0],'')\n",
    "a = b.replace(b[2:],'P-'+ b[2:])\n",
    "#c = b.replace(b[])\n",
    "print a\n"
   ]
  },
  {
   "cell_type": "code",
   "execution_count": null,
   "metadata": {
    "collapsed": true
   },
   "outputs": [],
   "source": []
  }
 ],
 "metadata": {
  "kernelspec": {
   "display_name": "Python 2",
   "language": "python",
   "name": "python2"
  },
  "language_info": {
   "codemirror_mode": {
    "name": "ipython",
    "version": 2
   },
   "file_extension": ".py",
   "mimetype": "text/x-python",
   "name": "python",
   "nbconvert_exporter": "python",
   "pygments_lexer": "ipython2",
   "version": "2.7.13"
  }
 },
 "nbformat": 4,
 "nbformat_minor": 2
}
