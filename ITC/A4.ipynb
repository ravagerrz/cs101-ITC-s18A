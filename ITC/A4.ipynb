{
 "cells": [
  {
   "cell_type": "code",
   "execution_count": 3,
   "metadata": {
    "collapsed": true
   },
   "outputs": [],
   "source": [
    "def count_word(x):\n",
    "    dic = {}\n",
    "    var = x.split(\" \") or x.split(\".\")\n",
    "    for i in var:\n",
    "        if i not in dic:\n",
    "            dic[i] = 1\n",
    "        else:\n",
    "            i in dic\n",
    "            dic[i] +=1\n",
    "    return dic"
   ]
  },
  {
   "cell_type": "code",
   "execution_count": 4,
   "metadata": {},
   "outputs": [
    {
     "data": {
      "text/plain": [
       "{'a': 1,\n",
       " 'am': 1,\n",
       " 'i': 1,\n",
       " 'is': 2,\n",
       " 'muslim': 1,\n",
       " 'my': 2,\n",
       " 'name': 1,\n",
       " 'usama': 1,\n",
       " 'usama.I': 1}"
      ]
     },
     "execution_count": 4,
     "metadata": {},
     "output_type": "execute_result"
    }
   ],
   "source": [
    "count_word(\"my name is usama.I am a muslim usama is my i\")"
   ]
  },
  {
   "cell_type": "code",
   "execution_count": 12,
   "metadata": {},
   "outputs": [
    {
     "name": "stdout",
     "output_type": "stream",
     "text": [
      "['my', 'name', 'is', 'usama', 'I', 'live', 'in', 'FSd']\n",
      "['usama']\n"
     ]
    }
   ],
   "source": [
    "import re\n",
    "lst1 = []\n",
    "lst2=[]\n",
    "str1 = \"my name is usama.I live in,FSd usama\"\n",
    "var = re.split('[, . \" \" ]',str1)\n",
    "for i in var:\n",
    "    if i not in lst1:\n",
    "        lst1.append(i)\n",
    "    else:\n",
    "        lst2.append(i)\n",
    "print lst1\n",
    "print lst2\n",
    "        \n",
    "\n"
   ]
  },
  {
   "cell_type": "code",
   "execution_count": 11,
   "metadata": {},
   "outputs": [
    {
     "name": "stdout",
     "output_type": "stream",
     "text": [
      "{'usama': 1, 'FSd': 1, 'name': 1, 'I': 1, 'is': 1, 'live': 1, 'in': 1, 'my': 1}\n"
     ]
    }
   ],
   "source": [
    "d = {}\n",
    "for i in lst1:\n",
    "    d[i] = 1\n",
    "print d"
   ]
  },
  {
   "cell_type": "code",
   "execution_count": 13,
   "metadata": {},
   "outputs": [
    {
     "data": {
      "text/plain": [
       "([1, 2, 3, 4, 5, 6], [1, 2, 3])"
      ]
     },
     "execution_count": 13,
     "metadata": {},
     "output_type": "execute_result"
    }
   ],
   "source": [
    "def uniqueEntries (n):\n",
    "    lst1 = []\n",
    "    lst2=[]\n",
    "    for i in n:\n",
    "        if i not in lst1:\n",
    "            lst1.append(i)\n",
    "        else:\n",
    "            lst2.append(i)\n",
    "    return lst1 ,lst2\n",
    "uniqueEntries([1,2,3,4,5,6,1,2,3])"
   ]
  },
  {
   "cell_type": "code",
   "execution_count": 67,
   "metadata": {
    "collapsed": true
   },
   "outputs": [],
   "source": [
    "def word_count(x):\n",
    "    x = x.lower()\n",
    "    import re\n",
    "    dic = {}\n",
    "    var = re.split(\"[, . \" \" \\n \\t  _ : ; @ # $ % < > ? | + - * / ]\",x)\n",
    "    for i in var:\n",
    "        if i == '':\n",
    "            continue\n",
    "        elif i not in dic:\n",
    "            dic[i] = 1\n",
    "        else:\n",
    "            dic[i] +=1\n",
    "    return dic\n"
   ]
  },
  {
   "cell_type": "code",
   "execution_count": 68,
   "metadata": {},
   "outputs": [
    {
     "data": {
      "text/plain": [
       "{'and': 1, 'between': 1, \"can't\": 1, 'joe': 1, 'large': 2, 'tell': 1}"
      ]
     },
     "execution_count": 68,
     "metadata": {},
     "output_type": "execute_result"
    }
   ],
   "source": [
    "word_count(\"Joe can't tell between 'large' and large.\")"
   ]
  },
  {
   "cell_type": "code",
   "execution_count": 64,
   "metadata": {},
   "outputs": [
    {
     "ename": "IndentationError",
     "evalue": "expected an indented block (<ipython-input-64-5bfb321098ea>, line 7)",
     "output_type": "error",
     "traceback": [
      "\u001b[0;36m  File \u001b[0;32m\"<ipython-input-64-5bfb321098ea>\"\u001b[0;36m, line \u001b[0;32m7\u001b[0m\n\u001b[0;31m    for i in var:\u001b[0m\n\u001b[0m    ^\u001b[0m\n\u001b[0;31mIndentationError\u001b[0m\u001b[0;31m:\u001b[0m expected an indented block\n"
     ]
    }
   ],
   "source": [
    "def word_count(x):\n",
    "    dic = {}\n",
    "    lst1=[]\n",
    "    for k in x:\n",
    "        if k == chr(44):\n",
    "            \n",
    "    for i in var:\n",
    "        if i not in dic:\n",
    "            dic[i] = 1\n",
    "        elif i == chr(39):\n",
    "            continue\n",
    "        else:\n",
    "            dic[i] +=1\n",
    "    return dic\n"
   ]
  },
  {
   "cell_type": "code",
   "execution_count": 51,
   "metadata": {},
   "outputs": [
    {
     "data": {
      "text/plain": [
       "44"
      ]
     },
     "execution_count": 51,
     "metadata": {},
     "output_type": "execute_result"
    }
   ],
   "source": [
    "ord(',')"
   ]
  },
  {
   "cell_type": "code",
   "execution_count": 118,
   "metadata": {},
   "outputs": [],
   "source": [
    "def word_count(x):\n",
    "    x = x.lower()\n",
    "    import re\n",
    "    dict = {}\n",
    "    var = re.split(\"[, . \" \" \\n \\t  _ : ; @ # $ % < > ? | + - * / \"''\"]\",x)\n",
    "    for i in var:\n",
    "        if i == '':\n",
    "            continue\n",
    "        elif i = 'i':\n",
    "            dict[i]\n",
    "        elif i not in dict:\n",
    "            dict[i] = 1\n",
    "        else:\n",
    "            dict[i] +=1\n",
    "    return dict\n"
   ]
  },
  {
   "cell_type": "code",
   "execution_count": 119,
   "metadata": {},
   "outputs": [
    {
     "data": {
      "text/plain": [
       "{\"'large'\": 1,\n",
       " 'and': 1,\n",
       " 'between': 1,\n",
       " \"can't\": 1,\n",
       " 'joe': 1,\n",
       " 'large': 1,\n",
       " 'tell': 1}"
      ]
     },
     "execution_count": 119,
     "metadata": {},
     "output_type": "execute_result"
    }
   ],
   "source": [
    "word_count(\"Joe can't tell between 'large' and large.\")"
   ]
  },
  {
   "cell_type": "code",
   "execution_count": 81,
   "metadata": {},
   "outputs": [
    {
     "ename": "NameError",
     "evalue": "name 'ignore' is not defined",
     "output_type": "error",
     "traceback": [
      "\u001b[0;31m---------------------------------------------------------------------------\u001b[0m",
      "\u001b[0;31mNameError\u001b[0m                                 Traceback (most recent call last)",
      "\u001b[0;32m<ipython-input-81-209186b20744>\u001b[0m in \u001b[0;36m<module>\u001b[0;34m()\u001b[0m\n\u001b[0;32m----> 1\u001b[0;31m \u001b[0mhelp\u001b[0m\u001b[0;34m(\u001b[0m\u001b[0mignore\u001b[0m\u001b[0;34m)\u001b[0m\u001b[0;34m\u001b[0m\u001b[0m\n\u001b[0m",
      "\u001b[0;31mNameError\u001b[0m: name 'ignore' is not defined"
     ]
    }
   ],
   "source": [
    "help(ignore)"
   ]
  },
  {
   "cell_type": "code",
   "execution_count": null,
   "metadata": {
    "collapsed": true
   },
   "outputs": [],
   "source": []
  }
 ],
 "metadata": {
  "kernelspec": {
   "display_name": "Python 2",
   "language": "python",
   "name": "python2"
  },
  "language_info": {
   "codemirror_mode": {
    "name": "ipython",
    "version": 2
   },
   "file_extension": ".py",
   "mimetype": "text/x-python",
   "name": "python",
   "nbconvert_exporter": "python",
   "pygments_lexer": "ipython2",
   "version": "2.7.13"
  }
 },
 "nbformat": 4,
 "nbformat_minor": 2
}
