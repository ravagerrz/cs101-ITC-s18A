{
 "cells": [
  {
   "cell_type": "code",
   "execution_count": 3,
   "metadata": {},
   "outputs": [
    {
     "name": "stdout",
     "output_type": "stream",
     "text": [
      "The number cannot be divided by Zero\n"
     ]
    }
   ],
   "source": [
    "def div(x,y):\n",
    "    try:\n",
    "        return float(x)/y\n",
    "    except  ZeroDivisionError:\n",
    "        print \"The number cannot be divided by Zero\"\n",
    "div(5,0)"
   ]
  },
  {
   "cell_type": "code",
   "execution_count": 2,
   "metadata": {},
   "outputs": [
    {
     "name": "stdout",
     "output_type": "stream",
     "text": [
      "Please enter your name: usama\n",
      "Please enter your surname: haider\n",
      "Please enter your age: 12\n",
      "Please enter your height: 12\n",
      "Please enter your weight: 12\n"
     ]
    }
   ],
   "source": [
    "def fun():\n",
    "    try:\n",
    "        person = {}\n",
    "        properties = [\n",
    "        (\"name\", str),\n",
    "        (\"surname\", str),\n",
    "        (\"age\", int),\n",
    "        (\"height\", float),\n",
    "        (\"weight\", float),]\n",
    "        for prop, p_type in properties:\n",
    "            person[prop] = p_type(raw_input(\"Please enter your %s: \" % prop))\n",
    "    except NameError as f:\n",
    "        print f\n",
    "        fun()\n",
    "    except TypeError as k:\n",
    "        print k\n",
    "        fun()\n",
    "    except KeyError as n:\n",
    "        print n\n",
    "        fun()\n",
    "    except ValueError as m:\n",
    "        print m\n",
    "        fun()\n",
    "fun()"
   ]
  },
  {
   "cell_type": "code",
   "execution_count": 3,
   "metadata": {},
   "outputs": [
    {
     "name": "stdout",
     "output_type": "stream",
     "text": [
      "The index in exceeding from the length of list\n"
     ]
    }
   ],
   "source": [
    "def print_list_element(thelist, index):\n",
    "    try:\n",
    "        print(thelist[index])\n",
    "        return\n",
    "    except IndexError:\n",
    "        print (\"The index in exceeding from the length of list\")\n",
    "print_list_element([1,2,3,34,4,5,6],11)"
   ]
  },
  {
   "cell_type": "code",
   "execution_count": null,
   "metadata": {},
   "outputs": [
    {
     "name": "stdout",
     "output_type": "stream",
     "text": [
      "Please enter your name: uSAMA\n",
      "Please enter your surname: HAIDER\n",
      "Please enter your age: 12\n",
      "Please enter your height: 21\n"
     ]
    }
   ],
   "source": [
    "def fun():\n",
    "    try:\n",
    "        person = {}\n",
    "        properties = [\n",
    "        (\"name\", str),\n",
    "        (\"surname\", str),\n",
    "        (\"age\", int),\n",
    "        (\"height\", float),\n",
    "        (\"weight\", float),]\n",
    "        for prop, p_type in properties:\n",
    "            person[prop] = p_type(raw_input(\"Please enter your %s: \" % prop))\n",
    "    except NameError:\n",
    "        print (\"The name is not find in records\")\n",
    "        fun()\n",
    "    except TypeError:\n",
    "        print (\"please enter a integer value\")\n",
    "        fun()\n",
    "    except ValueError:\n",
    "        print (\"Please enter a integer value\")\n",
    "        fun()\n",
    "fun()\n"
   ]
  },
  {
   "cell_type": "code",
   "execution_count": null,
   "metadata": {
    "collapsed": true
   },
   "outputs": [],
   "source": []
  }
 ],
 "metadata": {
  "kernelspec": {
   "display_name": "Python 2",
   "language": "python",
   "name": "python2"
  },
  "language_info": {
   "codemirror_mode": {
    "name": "ipython",
    "version": 2
   },
   "file_extension": ".py",
   "mimetype": "text/x-python",
   "name": "python",
   "nbconvert_exporter": "python",
   "pygments_lexer": "ipython2",
   "version": "2.7.13"
  }
 },
 "nbformat": 4,
 "nbformat_minor": 2
}
